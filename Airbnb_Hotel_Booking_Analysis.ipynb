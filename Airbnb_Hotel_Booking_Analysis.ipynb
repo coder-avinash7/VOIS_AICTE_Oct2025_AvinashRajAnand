{
  "cells": [
    {
      "cell_type": "markdown",
      "metadata": {
        "colab_type": "text",
        "id": "view-in-github"
      },
      "source": [
        "<a href=\"https://colab.research.google.com/github/aadi-9325/VOIS_AICTE_Oct2025_AdityaNadevGhodke/blob/main/Airbnb_Hotel_Booking_Analysis.ipynb\" target=\"_parent\"><img src=\"https://colab.research.google.com/assets/colab-badge.svg\" alt=\"Open In Colab\"/></a>"
      ]
    },
    {
      "cell_type": "code",
      "execution_count": null,
      "metadata": {
        "id": "UqMX0b8iF8E3"
      },
      "outputs": [
        {
          "ename": "",
          "evalue": "",
          "output_type": "error",
          "traceback": [
            "\u001b[1;31mRunning cells with 'Python 3.12.5' requires the ipykernel package.\n",
            "\u001b[1;31m<a href='command:jupyter.createPythonEnvAndSelectController'>Create a Python Environment</a> with the required packages."
          ]
        }
      ],
      "source": [
        "import pandas as pd\n",
        "import numpy as np\n",
        "import matplotlib.pyplot as plt\n",
        "import seaborn as sns\n",
        "import warnings\n",
        "warnings.filterwarnings('ignore')"
      ]
    },
    {
      "cell_type": "code",
      "execution_count": null,
      "metadata": {
        "id": "TE7XGQQGHi6X"
      },
      "outputs": [],
      "source": [
        "df = pd.read_excel(\"/content/1730285881-Airbnb_Open_Data.xlsx\")"
      ]
    },
    {
      "cell_type": "code",
      "execution_count": null,
      "metadata": {
        "colab": {
          "base_uri": "https://localhost:8080/"
        },
        "id": "i71xZ9URKVxa",
        "outputId": "ecfaa86a-08fc-4a2b-a41a-1bf834209b3c"
      },
      "outputs": [],
      "source": [
        "df.shape"
      ]
    },
    {
      "cell_type": "code",
      "execution_count": null,
      "metadata": {
        "colab": {
          "base_uri": "https://localhost:8080/"
        },
        "id": "dgPBqMvhHtMT",
        "outputId": "61b0fb7e-6428-4a28-8b28-44bb79e7c7e5"
      },
      "outputs": [],
      "source": [
        "df.info()"
      ]
    },
    {
      "cell_type": "code",
      "execution_count": null,
      "metadata": {
        "colab": {
          "base_uri": "https://localhost:8080/",
          "height": 568
        },
        "id": "8Ucay7rMIybg",
        "outputId": "ad57147a-9cb0-4841-e740-847b56ea348f"
      },
      "outputs": [],
      "source": [
        "df.head()"
      ]
    },
    {
      "cell_type": "code",
      "execution_count": null,
      "metadata": {
        "colab": {
          "base_uri": "https://localhost:8080/",
          "height": 533
        },
        "id": "BiuFT6-2JMhD",
        "outputId": "6c50acef-b265-44a9-c85a-64366d3bea4e"
      },
      "outputs": [],
      "source": [
        "df.tail()"
      ]
    },
    {
      "cell_type": "code",
      "execution_count": null,
      "metadata": {
        "colab": {
          "base_uri": "https://localhost:8080/",
          "height": 147
        },
        "id": "WhC2kP-RKiOW",
        "outputId": "0e3a35df-2f14-40e6-ebd7-cf82bcce27f1"
      },
      "outputs": [],
      "source": [
        "df.duplicated().value_counts()"
      ]
    },
    {
      "cell_type": "code",
      "execution_count": null,
      "metadata": {
        "colab": {
          "base_uri": "https://localhost:8080/",
          "height": 899
        },
        "id": "3d6943dd",
        "outputId": "63fd4f21-123a-40ec-8330-607679992895"
      },
      "outputs": [],
      "source": [
        "df.isnull().sum()"
      ]
    },
    {
      "cell_type": "code",
      "execution_count": null,
      "metadata": {
        "colab": {
          "base_uri": "https://localhost:8080/",
          "height": 304
        },
        "id": "Q17c-UO4MS-Z",
        "outputId": "bc8df653-b020-4240-99dd-982904e6cd92"
      },
      "outputs": [],
      "source": [
        "#neighbourhood group was brookln instead of brooklyn\n",
        "df[df['neighbourhood group'] == 'brookln']"
      ]
    },
    {
      "cell_type": "code",
      "execution_count": null,
      "metadata": {
        "id": "Q4KI4MG3IKSE"
      },
      "outputs": [],
      "source": [
        "df.loc[df['neighbourhood group'] == 'brookln', 'neighbourhood group'] = 'Brooklyn'"
      ]
    },
    {
      "cell_type": "code",
      "execution_count": null,
      "metadata": {
        "colab": {
          "base_uri": "https://localhost:8080/",
          "height": 999
        },
        "id": "fzCNcdlO7T7Y",
        "outputId": "5ad0562d-c945-4cda-9df2-582ba7361bc7"
      },
      "outputs": [],
      "source": [
        "#neighbourhood column the spelling of Brooklyn was misspelt\n",
        "df[df['neighbourhood group'] == 'Brooklyn']"
      ]
    },
    {
      "cell_type": "markdown",
      "metadata": {
        "id": "T3v7_KDINqpU"
      },
      "source": [
        "**Problem Identifies within data**\n",
        "\n",
        "1.541 duplicate values found\n",
        "\n",
        "2.license column has only 2 values and all other 102597 Null values\n",
        "\n",
        "3.house_rules column has half of the values NULL\n",
        "\n",
        "4.missing values in some records\n",
        "\n",
        "5.doller sign and commas are recorded within price and service fee column\n",
        "\n",
        "6.in the neighbourhood column the spelling of Brooklyn was misspelt"
      ]
    },
    {
      "cell_type": "markdown",
      "metadata": {
        "id": "gcSAp--dQiKB"
      },
      "source": [
        "# Clean the data\n",
        "\n",
        "<tr><li>Drop the duplicate records\n",
        "<li>Drop house_rules and license columns they have insufficiet data\n",
        "<li>Remove all doller sign in the price and service fee columns\n",
        "<li>Rename the service fee and price columns to include $ doller sign\n",
        "<li>Drop all records with missing values\n",
        "<tr>"
      ]
    },
    {
      "cell_type": "code",
      "execution_count": null,
      "metadata": {
        "id": "A8AglqZDRsD-"
      },
      "outputs": [],
      "source": [
        "#drop duplicate records\n",
        "df.drop_duplicates(inplace=True)\n",
        "\n",
        "#drop house_rules and license columns\n",
        "df.drop(['house_rules','license'],axis= 1,inplace=True)\n",
        "\n"
      ]
    },
    {
      "cell_type": "code",
      "execution_count": null,
      "metadata": {
        "id": "vVEBM0F1Tzvt"
      },
      "outputs": [],
      "source": [
        "#Remove all doller sign and commas in the price and service fee columns\n",
        "df['price'] = df['price'].astype(str).str.replace('$',\"\",regex=False).str.replace(',',\"\",regex=False)\n",
        "df['service fee'] = df['service fee'].astype(str).str.replace('$',\"\",regex=False)\n",
        "\n",
        "# Replace \"nan\" strings with actual NaN values\n",
        "df['price'] = df['price'].replace('nan', np.nan)\n",
        "df['service fee'] = df['service fee'].replace('nan', np.nan)\n"
      ]
    },
    {
      "cell_type": "code",
      "execution_count": null,
      "metadata": {
        "id": "VkSeGbMhV-YL"
      },
      "outputs": [],
      "source": [
        "\n",
        "#Convert the columns to numeric after removing the characters\n",
        "df['price'] = pd.to_numeric(df['price'], errors='coerce')\n",
        "df['service fee'] = pd.to_numeric(df['service fee'], errors='coerce')\n"
      ]
    },
    {
      "cell_type": "code",
      "execution_count": null,
      "metadata": {
        "id": "q9MO_UntWc8L"
      },
      "outputs": [],
      "source": [
        "#Drop all records with missing values\n",
        "df.dropna(inplace=True)"
      ]
    },
    {
      "cell_type": "code",
      "execution_count": null,
      "metadata": {
        "id": "FRJKye3_Wjn0"
      },
      "outputs": [],
      "source": []
    },
    {
      "cell_type": "code",
      "execution_count": null,
      "metadata": {
        "colab": {
          "base_uri": "https://localhost:8080/"
        },
        "id": "SncYHh3VSFhL",
        "outputId": "04e9d81f-0737-4b2e-dd4b-9eee9025104d"
      },
      "outputs": [],
      "source": [
        "df.info()"
      ]
    },
    {
      "cell_type": "code",
      "execution_count": null,
      "metadata": {
        "id": "oNiB5JrQWU85"
      },
      "outputs": [],
      "source": [
        "#change all mismatched data type to appropriate data type\n",
        "df['id'] = df['id'].astype('str')"
      ]
    },
    {
      "cell_type": "code",
      "execution_count": null,
      "metadata": {
        "id": "qFSYTOg7Xbgk"
      },
      "outputs": [],
      "source": [
        "df['host id'] = df['host id'].astype('str')"
      ]
    },
    {
      "cell_type": "code",
      "execution_count": null,
      "metadata": {
        "id": "OQ9KohOvX5xp"
      },
      "outputs": [],
      "source": [
        "df['Construction year'] = df['Construction year'].astype('int')\n"
      ]
    },
    {
      "cell_type": "code",
      "execution_count": null,
      "metadata": {
        "id": "NwOQjy2GYDeB"
      },
      "outputs": [],
      "source": [
        "#rename the price and service fee colun to include $ sign\n",
        "df.rename(columns={'price':'$price','service fee':'$service fee'}, inplace=True)"
      ]
    },
    {
      "cell_type": "code",
      "execution_count": null,
      "metadata": {
        "id": "P2aXIU7sZCl6"
      },
      "outputs": [],
      "source": [
        "#get rid of vailability 365 columns outliers\n",
        "df = df.drop(df[df['availability 365'] > 500].index)"
      ]
    },
    {
      "cell_type": "code",
      "execution_count": null,
      "metadata": {
        "colab": {
          "base_uri": "https://localhost:8080/",
          "height": 115
        },
        "id": "TXNHvdD6aINp",
        "outputId": "f68e9ca7-d06b-4887-98d0-bab953826d7b"
      },
      "outputs": [],
      "source": [
        "df.duplicated().value_counts()"
      ]
    },
    {
      "cell_type": "code",
      "execution_count": null,
      "metadata": {
        "colab": {
          "base_uri": "https://localhost:8080/",
          "height": 837
        },
        "id": "FS8JPeNuaMr9",
        "outputId": "69226240-68e6-457c-b5b5-6fe6dd8d5b12"
      },
      "outputs": [],
      "source": [
        "df.isnull().sum()"
      ]
    },
    {
      "cell_type": "code",
      "execution_count": null,
      "metadata": {
        "colab": {
          "base_uri": "https://localhost:8080/"
        },
        "id": "DcsYd1yMaTeM",
        "outputId": "65d03971-5ee8-4401-de63-2218cab1c7e1"
      },
      "outputs": [],
      "source": [
        "df.info()"
      ]
    },
    {
      "cell_type": "markdown",
      "metadata": {
        "id": "FLjRK2BDbIY6"
      },
      "source": [
        "# EDA Started from here"
      ]
    },
    {
      "cell_type": "code",
      "execution_count": null,
      "metadata": {
        "colab": {
          "base_uri": "https://localhost:8080/",
          "height": 476
        },
        "id": "X9IkkOqEbM4F",
        "outputId": "3253199b-01f6-44c4-fe2f-bf6871c4e876"
      },
      "outputs": [],
      "source": [
        "df.describe()"
      ]
    },
    {
      "cell_type": "code",
      "execution_count": null,
      "metadata": {
        "colab": {
          "base_uri": "https://localhost:8080/",
          "height": 206
        },
        "id": "5qfkp3qwbqN1",
        "outputId": "b590d4e6-3c5d-495f-c14c-5a721e6635be"
      },
      "outputs": [],
      "source": [
        "property_type = df['room type'].value_counts().to_frame()\n",
        "property_type"
      ]
    },
    {
      "cell_type": "code",
      "execution_count": null,
      "metadata": {
        "colab": {
          "base_uri": "https://localhost:8080/",
          "height": 490
        },
        "id": "wa8Xu_Suepko",
        "outputId": "d5dd03a2-0259-4c9d-bce7-f63a0f9ea717"
      },
      "outputs": [],
      "source": [
        "room_type_bar = plt.bar(property_type.index, property_type.loc[:,\"count\"]);\n",
        "plt.bar_label(room_type_bar, labels = property_type.loc[:,\"count\"], padding = 4);\n",
        "plt.title('Property Type and count')\n",
        "plt.xlabel('Property Type')\n",
        "plt.ylim(0,50000)\n",
        "plt.ylabel('Count')"
      ]
    },
    {
      "cell_type": "code",
      "execution_count": null,
      "metadata": {
        "colab": {
          "base_uri": "https://localhost:8080/",
          "height": 472
        },
        "id": "3dFR8eFachcD",
        "outputId": "d35edf19-a1b3-447b-d80e-6bbca4080930"
      },
      "outputs": [],
      "source": [
        "plt.bar(property_type.index,property_type.loc[:,'count'])\n",
        "\n",
        "plt.title('Property Type and count')\n",
        "plt.xlabel('Property Type')\n",
        "plt.bar_label(room_type_bar, labels = property_type.loc[:,\"count\"], padding = 4);\n",
        "plt.ylim(0,50000)\n",
        "plt.ylabel('Count')\n",
        "plt.show()"
      ]
    },
    {
      "cell_type": "markdown",
      "metadata": {
        "id": "9KNw7m2mghgT"
      },
      "source": [
        "#Which neighbourhood group has highest listing"
      ]
    },
    {
      "cell_type": "code",
      "execution_count": null,
      "metadata": {
        "colab": {
          "base_uri": "https://localhost:8080/",
          "height": 237
        },
        "id": "8JcaKNWOgVHt",
        "outputId": "4bbb052e-a869-4e1e-c954-fd4fd5ef5989"
      },
      "outputs": [],
      "source": [
        "hood_group = df['neighbourhood group'].value_counts().to_frame()\n",
        "hood_group"
      ]
    },
    {
      "cell_type": "code",
      "execution_count": null,
      "metadata": {
        "colab": {
          "base_uri": "https://localhost:8080/",
          "height": 472
        },
        "id": "x7rOMmfsiJlY",
        "outputId": "24e77ea0-04a0-44b8-e8d1-90fe8bf8cdd0"
      },
      "outputs": [],
      "source": [
        "n_group_bar = plt.bar(hood_group.index,hood_group.loc[:,\"count\"])\n",
        "plt.bar_label(n_group_bar, labels = hood_group.loc[:,\"count\"], padding = 4);\n",
        "plt.title(\"Neighbourhood Group and count\")\n",
        "plt.xlabel(\"Neighbourhood Group\")\n",
        "plt.ylabel(\"Count\")\n",
        "plt.ylim(0,38000)\n",
        "plt.show()\n"
      ]
    },
    {
      "cell_type": "markdown",
      "metadata": {
        "id": "OFaT5QwTj43j"
      },
      "source": [
        "<h4>The dataset has five Neighbourhood groups</h4> Brooklyn,Manhattan,Queens,Bronx,Staten Island.\n",
        "<h5>Brooklyn has highest number of listings with 34621 , Manhattan is second number with 34560"
      ]
    },
    {
      "cell_type": "markdown",
      "metadata": {
        "id": "JsIy0EQ3lBqf"
      },
      "source": [
        "# which neighbourhood groups have highest average prices for Airbnb listings"
      ]
    },
    {
      "cell_type": "code",
      "execution_count": null,
      "metadata": {
        "colab": {
          "base_uri": "https://localhost:8080/",
          "height": 237
        },
        "id": "Pac1w6iZk6tX",
        "outputId": "ff55459e-3057-418c-ad76-913f6c30b859"
      },
      "outputs": [],
      "source": [
        "avg_price  = df.groupby('neighbourhood group')['$price'].mean().sort_values(ascending=False).to_frame()\n",
        "avg_price.round(2)"
      ]
    },
    {
      "cell_type": "code",
      "execution_count": null,
      "metadata": {
        "colab": {
          "base_uri": "https://localhost:8080/",
          "height": 472
        },
        "id": "z6U1ryYYp3pk",
        "outputId": "a27e95a0-11ee-487b-9b29-079471ec473b"
      },
      "outputs": [],
      "source": [
        "avg_price_bar = plt.bar(avg_price.index,avg_price.loc[:,'$price'],width=0.5)\n",
        "plt.bar_label(avg_price_bar, labels = avg_price.loc[:,\"$price\"].round(2), padding = 4,rotation=0);\n",
        "plt.title(\"Neighbourhood Group and Average Price\")\n",
        "plt.xlabel(\"Neighbourhood Group\")\n",
        "plt.ylabel(\"Average Price\")\n",
        "plt.ylim(0,800)\n",
        "plt.show()"
      ]
    },
    {
      "cell_type": "markdown",
      "metadata": {
        "id": "ifvgY0ZVverR"
      },
      "source": [
        "<h6>mong the five identifide group Queens 630.5 (Dollar)  has the highest average price followed by Bronx 630.2 (Dollar) with very small difference"
      ]
    },
    {
      "cell_type": "markdown",
      "metadata": {
        "id": "TZzrs6Vuuncc"
      },
      "source": [
        "# is there anyy relation between construction year and price?"
      ]
    },
    {
      "cell_type": "code",
      "execution_count": null,
      "metadata": {
        "colab": {
          "base_uri": "https://localhost:8080/",
          "height": 449
        },
        "id": "lkGekzP_Mbdl",
        "outputId": "03b2aa03-0203-4e2f-e559-910031e9a60e"
      },
      "outputs": [],
      "source": [
        "df.groupby('Construction year')['$price'].mean().to_frame().plot()\n",
        "plt.xlabel('Construction Year')\n",
        "plt.ylabel('Average Price')\n",
        "plt.legend(['Average Price'])\n",
        "plt.show()"
      ]
    },
    {
      "cell_type": "markdown",
      "metadata": {
        "id": "JsOqeZQCOKHk"
      },
      "source": [
        "The line plot depocting the construction year of properties versus the average price per property reveals a noticavble trend in prices as the construction year progress. The pattern demonstrate decreasing lows and high, suggesting an overall decline in properiety prices as time progress."
      ]
    },
    {
      "cell_type": "markdown",
      "metadata": {
        "id": "YV4dd0PRPITG"
      },
      "source": [
        "<h2>Who are the top 10 hostes by calculated host listing count ?</h2>\n",
        "From the numerous hoste in the dataset, we will see the 10 hosts with highest calculatred host count."
      ]
    },
    {
      "cell_type": "code",
      "execution_count": null,
      "metadata": {
        "colab": {
          "base_uri": "https://localhost:8080/",
          "height": 394
        },
        "id": "_mcO25xsul3Q",
        "outputId": "029ad488-00f9-48c2-f9a9-e624b504fd37"
      },
      "outputs": [],
      "source": [
        "#top 10 host calculated host listings count\n",
        "top_10_host = df.groupby('host name')['calculated host listings count'].sum().sort_values(ascending=False).nlargest(10).to_frame()\n",
        "top_10_host"
      ]
    },
    {
      "cell_type": "code",
      "execution_count": null,
      "metadata": {
        "colab": {
          "base_uri": "https://localhost:8080/",
          "height": 589
        },
        "id": "Qf7Gf3sIQEUk",
        "outputId": "703f0e6a-84d5-4978-da01-75ee8fdd4919"
      },
      "outputs": [],
      "source": [
        "host_bar = plt.bar(top_10_host.index,top_10_host.loc[:,'calculated host listings count'])\n",
        "plt.bar_label(host_bar,label = top_10_host.loc[:,'calculated host listings count'], label_type='edge',padding = 3)\n",
        "plt.xlabel('Host Name')\n",
        "plt.ylabel('calculated Host Listings Count')\n",
        "plt.title('Top 10 Hosts by Calculated Host Listing Count')\n",
        "plt.legend('calculated host listings count')\n",
        "plt.xticks(rotation=80)\n",
        "plt.ylim(0,120000)\n",
        "plt.show()"
      ]
    },
    {
      "cell_type": "markdown",
      "metadata": {
        "id": "ZGvna_dOU_Yr"
      },
      "source": [
        "The bar chart above showas the top 10 hostes based on the calculated listing count, with Sonder(NYC) notably leading with 111921 listings. /n Subsequently , the others hosts follow in the descending order.\n",
        "<li> Karen at second position with 42410 hosts\n",
        "<li> Jenifer at thoird position with 31447 hosts\n",
        "<li> Blueground at fourth with  21168 hosts\n",
        "<li>Kaz at fifth with 17550 hosts\n",
        "<li>Corporate hostin with 14833\n",
        "<li> Soya, Stay with Vibe, Kara, Jereny & Laura with 10260, 10260, 10092, 100080 respectivaly\n"
      ]
    },
    {
      "cell_type": "markdown",
      "metadata": {
        "id": "N0N3dOlpWF__"
      },
      "source": [
        "# Are hosts with verifide identities more likely to receive positive reviews?"
      ]
    },
    {
      "cell_type": "code",
      "execution_count": null,
      "metadata": {
        "colab": {
          "base_uri": "https://localhost:8080/",
          "height": 143
        },
        "id": "nNzOn_1EWjlI",
        "outputId": "742f7819-021b-4abd-d8d2-3a08565c8f4a"
      },
      "outputs": [],
      "source": [
        "review = df.groupby('host_identity_verified')['review rate number'].mean().sort_values(ascending=False).to_frame()\n",
        "review"
      ]
    },
    {
      "cell_type": "code",
      "execution_count": null,
      "metadata": {
        "colab": {
          "base_uri": "https://localhost:8080/",
          "height": 472
        },
        "id": "vxQWNVYVX5LE",
        "outputId": "c5a0a335-3a0c-4f22-b2b4-9b76ecdcdd8f"
      },
      "outputs": [],
      "source": [
        "review_bar = plt.bar(review.index,review.loc[:,'review rate number'])\n",
        "plt.bar_label(review_bar,label = round(review.loc[:,'review rate number'],3), label_type='edge',padding = 3)\n",
        "plt.xlabel(\"host_identity_verified\")\n",
        "plt.ylabel(\"review rate number\")\n",
        "plt.ylim(0,4)\n",
        "plt.title(\"Host Identity Verified and Review Rate Number\")\n",
        "plt.show()"
      ]
    },
    {
      "cell_type": "code",
      "execution_count": null,
      "metadata": {
        "colab": {
          "base_uri": "https://localhost:8080/",
          "height": 472
        },
        "id": "xaPB6Ewwc0Tz",
        "outputId": "f8f92a96-ea16-4480-eba0-026eaf138bb2"
      },
      "outputs": [],
      "source": [
        "base_color= sns.color_palette()[0]\n",
        "sns.boxplot(data = df , x = \"host_identity_verified\" , y = \"review rate number\" , color = base_color)\n",
        "plt.xlabel(\"Host Identity Verified\")\n",
        "plt.ylabel(\"Review Rate Number\")\n",
        "plt.title('Average review rate for each')\n",
        "plt.show()"
      ]
    },
    {
      "cell_type": "markdown",
      "metadata": {
        "id": "h_BDAz_Wd_Lj"
      },
      "source": [
        "The average review rates for verifide and unconfirmed hosts are 3.27 and 3.28 respectively, indicating a marginal difference in their review rates, with uinconfirmed hosts having a slighlty having slightly higher rate. This sugest that verifide hosts are not necessarily more likely to recieve postitive reviesws compared to uncomfirmed hosts."
      ]
    },
    {
      "cell_type": "markdown",
      "metadata": {
        "id": "asIE-iWje6Kl"
      },
      "source": [
        "#Is there a correlation between the price anf its service fee?"
      ]
    },
    {
      "cell_type": "code",
      "execution_count": null,
      "metadata": {
        "colab": {
          "base_uri": "https://localhost:8080/"
        },
        "id": "b09qv-cpgBXO",
        "outputId": "6cae6955-7d9b-4c67-db01-04283608c712"
      },
      "outputs": [],
      "source": [
        "df['$price'].corr(df['$service fee'])"
      ]
    },
    {
      "cell_type": "code",
      "execution_count": null,
      "metadata": {
        "colab": {
          "base_uri": "https://localhost:8080/",
          "height": 472
        },
        "id": "MFP8EGyBfoYW",
        "outputId": "0cd9c458-0323-4c4e-c4bb-3ee1cfedd201"
      },
      "outputs": [],
      "source": [
        "#Is there a correlation between the price anf its service fee?\n",
        "plt.scatter(df['$price'], df['$service fee'])\n",
        "plt.xlabel('Price ($)')\n",
        "plt.ylabel('Service Fee ($)')\n",
        "plt.title('Relationship between Price and Service Fee')\n",
        "plt.show()"
      ]
    },
    {
      "cell_type": "markdown",
      "metadata": {
        "id": "S0qhZvEXg8kD"
      },
      "source": [
        "the pearson correlation between the price and service fee is 0.99 ,indicating a highly robust positive correlation between these variables , On regression plot each point, arising digonal line towards the rigth signifying that as the price of a property increases so does its service fee."
      ]
    },
    {
      "cell_type": "markdown",
      "metadata": {
        "id": "0tDDoqM6hcly"
      },
      "source": [
        "# What is the average reviews rate number (e.g Stars ) for listing, and does it vary based on the neighbourhood group and room type?"
      ]
    },
    {
      "cell_type": "code",
      "execution_count": null,
      "metadata": {
        "colab": {
          "base_uri": "https://localhost:8080/",
          "height": 645
        },
        "id": "jHZPVbp15yQD",
        "outputId": "f3a0f9a0-b9c0-4882-e09e-e5d90f60cd51"
      },
      "outputs": [],
      "source": [
        "ARRN = df.groupby(['neighbourhood group','room type'])['review rate number'].mean().to_frame();\n",
        "ARRN"
      ]
    },
    {
      "cell_type": "code",
      "execution_count": null,
      "metadata": {
        "colab": {
          "base_uri": "https://localhost:8080/",
          "height": 890
        },
        "id": "gEA7xUzalYc7",
        "outputId": "7f7ac47c-eba3-4f96-84d2-0725aa142ca3"
      },
      "outputs": [],
      "source": [
        "plt.figure(figsize= [10,10]); sns.barplot(data = df, x = 'neighbourhood group', y = 'review rate number' , hue = 'room type')\n",
        "plt.xlabel('neighbourhood group');\n",
        "plt.ylabel('Average Review Rate');\n",
        "plt.title(\"Average Review rate for each Room/Property Type in each Neighourhood Group.\")"
      ]
    },
    {
      "cell_type": "markdown",
      "metadata": {
        "id": "7w56NJNSpF6H"
      },
      "source": [
        "Hotel Room type has higher revies rate compared to all other property types within the four neighbourhood group Where the are located Brooklyn, Mannhaten, Queens"
      ]
    },
    {
      "cell_type": "markdown",
      "metadata": {
        "id": "WtAzo1fxpfDb"
      },
      "source": [
        "# Are hosts with higher calculated host listings count more likely to maintain higehr availibility throughout the year?"
      ]
    },
    {
      "cell_type": "code",
      "execution_count": null,
      "metadata": {
        "colab": {
          "base_uri": "https://localhost:8080/",
          "height": 472
        },
        "id": "LF6bEzK6pydD",
        "outputId": "e4b3a183-7e0c-4342-ce20-be1189644529"
      },
      "outputs": [],
      "source": [
        "# Are hosts with higher calculated host listings count more likely to maintain higehr availibility throughout the year?\n",
        "sns.regplot(data = df, x = 'calculated host listings count', y = 'availability 365')\n",
        "plt.xlabel('Calculated Host Listings Count')\n",
        "plt.ylabel('Availability 365')\n",
        "plt.title('Relationship between Calculated Host Listings Count and Availability 365')\n",
        "plt.show()"
      ]
    },
    {
      "cell_type": "code",
      "execution_count": null,
      "metadata": {
        "colab": {
          "base_uri": "https://localhost:8080/"
        },
        "id": "jeN9nRaopefK",
        "outputId": "651ba441-4b84-414f-a82f-8bc32fa12628"
      },
      "outputs": [],
      "source": [
        "df['calculated host listings count'].corr(df['availability 365'])"
      ]
    },
    {
      "cell_type": "markdown",
      "metadata": {
        "id": "e9cePCitqMaT"
      },
      "source": [
        "The Pearson Correlation Coefficient for the asssociation between calculated host listing and availibility 365 is 0.136 is inicating a weak postive correlation."
      ]
    },
    {
      "cell_type": "markdown",
      "metadata": {
        "id": "mUe7IQWIquoD"
      },
      "source": [
        "# Conclusion\n",
        "<h4> In conclusion, this project has provided a comprehensive analysis of the New York City AIRBNB dataset, shedding light on various aspects of the short-term lodging market Through data wrangling. exploratory data analysis (FDA), and interpretation of summary statistics. we've uncovered valuable insights into listing distribution, pricing dynamics, host, and review analysis.\n",
        "\n",
        "<h4> Key findings include the dominance in counts of Entire home/apt listings, the variability in listing counts across neighborhood groups, and the downward trend between property construction year and price. Additionally, the analysis highlighted Inc significance of verified host status on review rates, as well as the strong correlation between listing price and service fee.\n",
        "\n",
        "<h4>Furthermore, conducting sentiment analysts on guest reviews to understand factors driving customer satisfaction and preferences could inform targeted marketing strategies and product improvements ha.Airbnh. Lastly. expanding the analysis to Include precfiCtiVe modeling techniques, such as regression or machine learning algorithms, could enable forecasting of listing demand, pricing trends, and customer behavior. facilitating strategic decision-Making for stakeholders in the short-term lodging industry.\n",
        "\n"
      ]
    },
    {
      "cell_type": "code",
      "execution_count": null,
      "metadata": {
        "colab": {
          "base_uri": "https://localhost:8080/"
        },
        "id": "ni7nL82nso5g",
        "outputId": "86719ec4-531a-4f67-ad5a-a59f30d37137"
      },
      "outputs": [],
      "source": [
        "text = \"Thank You\"\n",
        "width = len(text) + 8\n",
        "line = \"+\" + \"-\"*(width-2) + \"+\"\n",
        "\n",
        "print(line)\n",
        "print(\"|\" + \" \"*(width-2) + \"|\")\n",
        "print(\"|\" + \"   \" + text.center(width-8) + \"   |\")\n",
        "print(\"|\" + \" \"*(width-2) + \"|\")\n",
        "print(line)\n"
      ]
    }
  ],
  "metadata": {
    "accelerator": "GPU",
    "colab": {
      "authorship_tag": "ABX9TyN6Moe5ZTOrbhzsthUCTxFQ",
      "gpuType": "T4",
      "include_colab_link": true,
      "mount_file_id": "1-7ztg37uUPlV76BFfvwjHbdABw3B2nKX",
      "provenance": []
    },
    "kernelspec": {
      "display_name": "Python 3",
      "name": "python3"
    },
    "language_info": {
      "name": "python",
      "version": "3.12.5"
    }
  },
  "nbformat": 4,
  "nbformat_minor": 0
}
